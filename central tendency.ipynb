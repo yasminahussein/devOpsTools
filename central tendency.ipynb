{
 "cells": [
  {
   "cell_type": "code",
   "execution_count": 17,
   "metadata": {},
   "outputs": [
    {
     "name": "stdout",
     "output_type": "stream",
     "text": [
      "please enter the length of the list     6\n",
      "please enter one number of the list     1\n",
      "please enter one number of the list     2\n",
      "please enter one number of the list     3\n",
      "please enter one number of the list     4\n",
      "please enter one number of the list     5\n",
      "please enter one number of the list     6\n",
      "please enter the num u want to cut   2\n",
      "3.5\n"
     ]
    }
   ],
   "source": [
    "#trimmed of mean\n",
    "a=[]\n",
    "l=int (input(\"please enter the length of the list     \"))\n",
    "for i in range(l) :\n",
    "    s=int(input(\"please enter one number of the list     \"))\n",
    "    a.append(s)\n",
    "cut=int (input(\"please enter the num u want to cut   \"))\n",
    "b=[]\n",
    "for n in range(0+cut,l-cut):\n",
    "    b.append(a[n])\n",
    "s=0\n",
    "v=l-cut-cut\n",
    "for i in range(v):\n",
    "    s+=b[i] \n",
    "mean=s/v\n",
    "print (mean)\n",
    "    \n"
   ]
  },
  {
   "cell_type": "code",
   "execution_count": 20,
   "metadata": {},
   "outputs": [
    {
     "name": "stdout",
     "output_type": "stream",
     "text": [
      "please enter the length of the list     4\n",
      "please enter one number of the list     2\n",
      "please enter one number of the list     5\n",
      "please enter one number of the list     4\n",
      "please enter one number of the list     1\n",
      "the median of the list = 3.0\n"
     ]
    }
   ],
   "source": [
    "#median for even number \n",
    "a=[]\n",
    "l=int(input(\"please enter the length of the list     \"))\n",
    "for i in range(l) :\n",
    "    s=int(input(\"please enter one number of the list     \"))\n",
    "    a.append(s)\n",
    "a=sorted(a)    \n",
    "if (l%2==0):\n",
    "    m=l//2\n",
    "    s =(a[m]+a[m-1])/2\n",
    "    print (\"the median of the list =\",s)\n",
    "    "
   ]
  },
  {
   "cell_type": "code",
   "execution_count": 22,
   "metadata": {},
   "outputs": [
    {
     "name": "stdout",
     "output_type": "stream",
     "text": [
      "please enter the length of the list     4\n",
      "please enter one number of the list     1\n",
      "please enter one number of the list     2\n",
      "please enter one number of the list     3\n",
      "please enter one number of the list     4\n"
     ]
    },
    {
     "data": {
      "text/plain": [
       "1"
      ]
     },
     "execution_count": 22,
     "metadata": {},
     "output_type": "execute_result"
    }
   ],
   "source": [
    "#mode\n",
    "def mode(a,l):\n",
    "    mode1=0\n",
    "\n",
    "    for i in range(l):\n",
    "        if (a.count(a[i]) > a.count(mode1)):\n",
    "            mode1 = a[i]\n",
    "    return mode1\n",
    "\n",
    "a=[]\n",
    "l=int(input(\"please enter the length of the list     \"))\n",
    "for i in range(l) :\n",
    "    s=int(input(\"please enter one number of the list     \"))\n",
    "    a.append(s)\n",
    "mode(a,l)    "
   ]
  },
  {
   "cell_type": "code",
   "execution_count": null,
   "metadata": {},
   "outputs": [],
   "source": []
  }
 ],
 "metadata": {
  "kernelspec": {
   "display_name": "Python 3",
   "language": "python",
   "name": "python3"
  },
  "language_info": {
   "codemirror_mode": {
    "name": "ipython",
    "version": 3
   },
   "file_extension": ".py",
   "mimetype": "text/x-python",
   "name": "python",
   "nbconvert_exporter": "python",
   "pygments_lexer": "ipython3",
   "version": "3.8.5"
  },
  "toc": {
   "base_numbering": 1,
   "nav_menu": {},
   "number_sections": true,
   "sideBar": true,
   "skip_h1_title": false,
   "title_cell": "Table of Contents",
   "title_sidebar": "Contents",
   "toc_cell": false,
   "toc_position": {},
   "toc_section_display": true,
   "toc_window_display": false
  },
  "varInspector": {
   "cols": {
    "lenName": 16,
    "lenType": 16,
    "lenVar": 40
   },
   "kernels_config": {
    "python": {
     "delete_cmd_postfix": "",
     "delete_cmd_prefix": "del ",
     "library": "var_list.py",
     "varRefreshCmd": "print(var_dic_list())"
    },
    "r": {
     "delete_cmd_postfix": ") ",
     "delete_cmd_prefix": "rm(",
     "library": "var_list.r",
     "varRefreshCmd": "cat(var_dic_list()) "
    }
   },
   "types_to_exclude": [
    "module",
    "function",
    "builtin_function_or_method",
    "instance",
    "_Feature"
   ],
   "window_display": false
  }
 },
 "nbformat": 4,
 "nbformat_minor": 4
}

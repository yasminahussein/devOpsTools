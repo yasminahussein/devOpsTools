{
 "cells": [
  {
   "cell_type": "code",
   "execution_count": 6,
   "metadata": {},
   "outputs": [
    {
     "name": "stdout",
     "output_type": "stream",
     "text": [
      "8\n",
      "0\n",
      "2\n",
      "1\n",
      "1\n",
      "256.0\n"
     ]
    },
    {
     "data": {
      "text/plain": [
       "<__main__.power at 0x26d2ef93be0>"
      ]
     },
     "execution_count": 6,
     "metadata": {},
     "output_type": "execute_result"
    }
   ],
   "source": [
    "class add():\n",
    "    def __init__ (self,a):\n",
    "        sum=0\n",
    "        for x in range(len(a)): \n",
    "            sum+=a[x]\n",
    "        print(sum)\n",
    "class sub():\n",
    "    def __init__ (self,a):\n",
    "        sum=a[0]\n",
    "        for x in range(1,len(a)): \n",
    "            sum-=a[x]\n",
    "        print(sum)\n",
    "class multiple():\n",
    "    def __init__ (self,a):\n",
    "        sum=1\n",
    "        for s in range(len(a)): \n",
    "            sum*=a[s]\n",
    "        print(sum)      \n",
    "class divide():\n",
    "    def __init__ (self,a):\n",
    "        sum=a[0]\n",
    "        for i in range(1,len(a)): \n",
    "            sum/=a[i]\n",
    "        print(sum)\n",
    "class power():\n",
    "    def __init__ (self,a):\n",
    "        sum=a[0]\n",
    "        import math\n",
    "        for t in range(1,len(a)):\n",
    "              sum= math.pow(sum,a[t])\n",
    "        print(sum)\n",
    "class sroot():\n",
    "    def __init__ (self,a):\n",
    "        import math\n",
    "        for t in range(len(a)):\n",
    "            q=math .isqrt(a[t])\n",
    "            print(q) \n",
    "a=(4,2,2)\n",
    "add(a)\n",
    "sub(a)\n",
    "sroot(a)\n",
    "power(a)"
   ]
  },
  {
   "cell_type": "code",
   "execution_count": null,
   "metadata": {},
   "outputs": [
    {
     "name": "stdout",
     "output_type": "stream",
     "text": [
      "for add enter add,for subtract enter sub ,for divide enter divide ,for multiple enter multiple ,for take the power enter power ,first =the root & second=the power numberto take square root enter square root ,exit to stop\n",
      "please enter operation name power\n",
      "the length4\n",
      "please enter the number2\n",
      "please enter the number2\n",
      "please enter the number2\n",
      "please enter the number2\n",
      "256.0\n",
      "please enter operation name all\n",
      "the length3\n",
      "please enter the number2\n",
      "please enter the number4\n",
      "please enter the number25\n",
      "31\n",
      "-27\n",
      "200\n",
      "0.02\n",
      "1.2676506002282294e+30\n",
      "1\n",
      "2\n",
      "5\n"
     ]
    }
   ],
   "source": [
    "print(\"for add enter add,for subtract enter sub ,for divide enter divide ,for multiple enter multiple ,for take the power enter power ,first =the root & second=the power numberto take square root enter square root ,exit to stop\")\n",
    "    \n",
    "while(True):\n",
    "    p=input(\"please enter operation name \")\n",
    "    if p==\"exit\":\n",
    "         break\n",
    "    q=[]\n",
    "    \n",
    "    num= int(input (\"the length\"))\n",
    "    for i in range (num):\n",
    "        n=int(input(\"please enter the number\"))\n",
    "        q.append(n)\n",
    "    if p==\"add\":\n",
    "        s=add(q)\n",
    "    elif p==\"sub\":\n",
    "         s=sub(q) \n",
    "    elif p==\"multiple\":\n",
    "         s=multiple(q) \n",
    "    elif p==\"divide\":\n",
    "         s=divide(q)\n",
    "    elif p==\"power\":\n",
    "         s=power(q)\n",
    "    elif p==\"square root\":\n",
    "          v= sroot(q)\n",
    "    elif p==\"all\":\n",
    "         s=add(q)\n",
    "         f=sub(q) \n",
    "         a=multiple(q) \n",
    "         l=divide(q)\n",
    "         k=power(q)\n",
    "         o= sroot(q)\n",
    "    else:\n",
    "         print(\"please enter a word from the notes\")\n",
    "          "
   ]
  },
  {
   "cell_type": "code",
   "execution_count": null,
   "metadata": {},
   "outputs": [],
   "source": []
  },
  {
   "cell_type": "code",
   "execution_count": null,
   "metadata": {},
   "outputs": [],
   "source": []
  },
  {
   "cell_type": "code",
   "execution_count": null,
   "metadata": {},
   "outputs": [],
   "source": []
  },
  {
   "cell_type": "code",
   "execution_count": null,
   "metadata": {},
   "outputs": [],
   "source": []
  },
  {
   "cell_type": "code",
   "execution_count": null,
   "metadata": {},
   "outputs": [],
   "source": []
  },
  {
   "cell_type": "code",
   "execution_count": null,
   "metadata": {},
   "outputs": [],
   "source": []
  }
 ],
 "metadata": {
  "kernelspec": {
   "display_name": "Python 3",
   "language": "python",
   "name": "python3"
  },
  "language_info": {
   "codemirror_mode": {
    "name": "ipython",
    "version": 3
   },
   "file_extension": ".py",
   "mimetype": "text/x-python",
   "name": "python",
   "nbconvert_exporter": "python",
   "pygments_lexer": "ipython3",
   "version": "3.8.5"
  },
  "toc": {
   "base_numbering": 1,
   "nav_menu": {},
   "number_sections": true,
   "sideBar": true,
   "skip_h1_title": false,
   "title_cell": "Table of Contents",
   "title_sidebar": "Contents",
   "toc_cell": false,
   "toc_position": {},
   "toc_section_display": true,
   "toc_window_display": false
  },
  "varInspector": {
   "cols": {
    "lenName": 16,
    "lenType": 16,
    "lenVar": 40
   },
   "kernels_config": {
    "python": {
     "delete_cmd_postfix": "",
     "delete_cmd_prefix": "del ",
     "library": "var_list.py",
     "varRefreshCmd": "print(var_dic_list())"
    },
    "r": {
     "delete_cmd_postfix": ") ",
     "delete_cmd_prefix": "rm(",
     "library": "var_list.r",
     "varRefreshCmd": "cat(var_dic_list()) "
    }
   },
   "types_to_exclude": [
    "module",
    "function",
    "builtin_function_or_method",
    "instance",
    "_Feature"
   ],
   "window_display": false
  }
 },
 "nbformat": 4,
 "nbformat_minor": 4
}

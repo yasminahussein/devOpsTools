{
 "cells": [
  {
   "cell_type": "code",
   "execution_count": 11,
   "metadata": {},
   "outputs": [
    {
     "name": "stdout",
     "output_type": "stream",
     "text": [
      "7\n",
      "1\n",
      "2\n"
     ]
    },
    {
     "data": {
      "text/plain": [
       "<__main__.sroot at 0x209109c0820>"
      ]
     },
     "execution_count": 11,
     "metadata": {},
     "output_type": "execute_result"
    }
   ],
   "source": [
    "class add():\n",
    "    def __init__ (self,a,b):\n",
    "        c=a+b\n",
    "        print(c)\n",
    "class sub():\n",
    "    def __init__ (self,a,b):\n",
    "        r=(a-b)\n",
    "        print(  r)\n",
    "class multiple():\n",
    "    def __init__ (self,a,b):\n",
    "        u=a*b\n",
    "        print(u)\n",
    "class divide():\n",
    "    def __init__ (self,a,b):\n",
    "        e=a/b\n",
    "        print(e) \n",
    "class power():\n",
    "    def __init__ (self,a,b):\n",
    "        t=a^b\n",
    "        print(t)\n",
    "class sroot():\n",
    "    def __init__ (self,a):\n",
    "        import math\n",
    "        q=math .isqrt(a)\n",
    "        print(q) \n",
    "\n",
    "add(3,4)\n",
    "sub(4,3)\n",
    "sroot(4)"
   ]
  },
  {
   "cell_type": "code",
   "execution_count": null,
   "metadata": {},
   "outputs": [
    {
     "name": "stdout",
     "output_type": "stream",
     "text": [
      "for add enter add,for subtract enter sub ,for divide enter divide ,for multiple enter multiple ,for take the power enter power ,first =the root & second=the power numberto take square root enter square root\n"
     ]
    }
   ],
   "source": [
    "print(\"for add enter add,for subtract enter sub ,for divide enter divide ,for multiple enter multiple ,for take the power enter power ,first =the root & second=the power numberto take square root enter square root\")\n",
    "    \n",
    "for x in range(100):\n",
    "    p=input(\"please enter operation name \")\n",
    "    if p==\"exit\":\n",
    "         break\n",
    "        \n",
    "    q=int(input(\"please enter first number\"))\n",
    "    w=int(input(\"please enter second number\"))\n",
    "    if p==\"add\":\n",
    "        s=add(q,w)\n",
    "    elif p==\"sub\":\n",
    "         s=sub(q,w) \n",
    "    elif p==\"multiple\":\n",
    "         s=multiple(q,w) \n",
    "    elif p==\"divide\":\n",
    "         s=divide(q,w)\n",
    "    elif p==\"power\":\n",
    "         s=power(q,w)\n",
    "    elif p==\"square root\":\n",
    "          W=0\n",
    "          v= sroot(q)\n",
    "    else:\n",
    "         print(\"please enter a word from the notes\")\n",
    "          "
   ]
  },
  {
   "cell_type": "code",
   "execution_count": null,
   "metadata": {},
   "outputs": [],
   "source": []
  }
 ],
 "metadata": {
  "kernelspec": {
   "display_name": "Python 3",
   "language": "python",
   "name": "python3"
  },
  "language_info": {
   "codemirror_mode": {
    "name": "ipython",
    "version": 3
   },
   "file_extension": ".py",
   "mimetype": "text/x-python",
   "name": "python",
   "nbconvert_exporter": "python",
   "pygments_lexer": "ipython3",
   "version": "3.8.5"
  },
  "toc": {
   "base_numbering": 1,
   "nav_menu": {},
   "number_sections": true,
   "sideBar": true,
   "skip_h1_title": false,
   "title_cell": "Table of Contents",
   "title_sidebar": "Contents",
   "toc_cell": false,
   "toc_position": {},
   "toc_section_display": true,
   "toc_window_display": false
  },
  "varInspector": {
   "cols": {
    "lenName": 16,
    "lenType": 16,
    "lenVar": 40
   },
   "kernels_config": {
    "python": {
     "delete_cmd_postfix": "",
     "delete_cmd_prefix": "del ",
     "library": "var_list.py",
     "varRefreshCmd": "print(var_dic_list())"
    },
    "r": {
     "delete_cmd_postfix": ") ",
     "delete_cmd_prefix": "rm(",
     "library": "var_list.r",
     "varRefreshCmd": "cat(var_dic_list()) "
    }
   },
   "types_to_exclude": [
    "module",
    "function",
    "builtin_function_or_method",
    "instance",
    "_Feature"
   ],
   "window_display": false
  }
 },
 "nbformat": 4,
 "nbformat_minor": 4
}

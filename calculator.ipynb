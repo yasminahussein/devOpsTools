{
 "cells": [
  {
   "cell_type": "code",
   "execution_count": 10,
   "metadata": {},
   "outputs": [
    {
     "name": "stdout",
     "output_type": "stream",
     "text": [
      "the ruselt of addition    =   8\n",
      "the ruselt of subtraction =   0\n",
      "the ruselt of square root =   2\n",
      "the ruselt of square root =   1\n",
      "the ruselt of square root =   1\n",
      "the ruselt of power       =   256.0\n"
     ]
    },
    {
     "data": {
      "text/plain": [
       "<__main__.power at 0x1baf8c67fd0>"
      ]
     },
     "execution_count": 10,
     "metadata": {},
     "output_type": "execute_result"
    }
   ],
   "source": [
    "class add():\n",
    "    def __init__ (self,a):\n",
    "        s=0\n",
    "        for x in range(len(a)): \n",
    "            s+=a[x]\n",
    "        print('the ruselt of addition    =  ', s)\n",
    "class sub():\n",
    "    def __init__ (self,a):\n",
    "        s=a[0]\n",
    "        for x in range(1,len(a)): \n",
    "            s-=a[x]\n",
    "        print('the ruselt of subtraction =  ', s)\n",
    "class multiple():\n",
    "    def __init__ (self,a):\n",
    "        s=1\n",
    "        for t in range(len(a)): \n",
    "            s*=a[t]\n",
    "        print('the ruselt of multiplication =  ', s)      \n",
    "class divide():\n",
    "    def __init__ (self,a):\n",
    "        s=a[0]\n",
    "        for i in range(1,len(a)): \n",
    "            s/=a[i]\n",
    "        print('the ruselt of division =  ', s)\n",
    "class power():\n",
    "    def __init__ (self,a):\n",
    "        s=a[0]\n",
    "        import math\n",
    "        for t in range(1,len(a)):\n",
    "              s= math.pow(s,a[t])\n",
    "        print('the ruselt of power       =  ', s)\n",
    "class sroot():\n",
    "    def __init__ (self,a):\n",
    "        import math\n",
    "        for t in range(len(a)):\n",
    "            q=math .isqrt(a[t])\n",
    "            print('the ruselt of square root =  ', q) \n",
    "a=(4,2,2)\n",
    "add(a)\n",
    "sub(a)\n",
    "sroot(a)\n",
    "power(a)"
   ]
  },
  {
   "cell_type": "code",
   "execution_count": null,
   "metadata": {},
   "outputs": [
    {
     "name": "stdout",
     "output_type": "stream",
     "text": [
      "for add enter add,for subtract enter sub ,for divide enter divide ,for multiple enter multiple ,for take the power enter power ,first =the root & second=the power numberto take square root enter square root ,exit to stop\n",
      "please enter operation name all\n",
      "the length  =  1\n",
      "please enter the number16\n",
      "the ruselt of addition    =   16\n",
      "the ruselt of subtraction =   16\n",
      "the ruselt of multiplication =   16\n",
      "the ruselt of division =   16\n",
      "the ruselt of power       =   16\n",
      "the ruselt of square root =   4\n"
     ]
    }
   ],
   "source": [
    "print(\"for add enter add,for subtract enter sub ,for divide enter divide ,for multiple enter multiple ,for take the power enter power ,first =the root & second=the power numberto take square root enter square root ,exit to stop\")\n",
    "    \n",
    "while(True):\n",
    "    p=input(\"please enter operation name \")\n",
    "    if p==\"exit\":\n",
    "         break\n",
    "    q=[]\n",
    "    \n",
    "    num= int(input (\"the length  =  \"))\n",
    "    for i in range (num):\n",
    "        n=int(input(\"please enter the number\"))\n",
    "        q.append(n)\n",
    "       \n",
    "    if p==\"add\":\n",
    "        s=add(q)\n",
    "    elif p==\"sub\":\n",
    "         s=sub(q) \n",
    "    elif p==\"multiple\":\n",
    "         s=multiple(q) \n",
    "    elif p==\"divide\":\n",
    "         s=divide(q)\n",
    "    elif p==\"power\":\n",
    "         s=power(q)\n",
    "    elif p==\"square root\":\n",
    "          v= sroot(q)\n",
    "    elif p==\"all\":\n",
    "         s=add(q)\n",
    "         f=sub(q) \n",
    "         a=multiple(q) \n",
    "         l=divide(q)\n",
    "         k=power(q)\n",
    "         o= sroot(q)\n",
    "    else:\n",
    "         print(\"please enter a word from the notes\")\n",
    "          "
   ]
  },
  {
   "cell_type": "code",
   "execution_count": null,
   "metadata": {},
   "outputs": [],
   "source": []
  },
  {
   "cell_type": "code",
   "execution_count": null,
   "metadata": {},
   "outputs": [],
   "source": []
  },
  {
   "cell_type": "code",
   "execution_count": null,
   "metadata": {},
   "outputs": [],
   "source": []
  },
  {
   "cell_type": "code",
   "execution_count": null,
   "metadata": {},
   "outputs": [],
   "source": []
  },
  {
   "cell_type": "code",
   "execution_count": null,
   "metadata": {},
   "outputs": [],
   "source": []
  },
  {
   "cell_type": "code",
   "execution_count": null,
   "metadata": {},
   "outputs": [],
   "source": []
  }
 ],
 "metadata": {
  "kernelspec": {
   "display_name": "Python 3",
   "language": "python",
   "name": "python3"
  },
  "language_info": {
   "codemirror_mode": {
    "name": "ipython",
    "version": 3
   },
   "file_extension": ".py",
   "mimetype": "text/x-python",
   "name": "python",
   "nbconvert_exporter": "python",
   "pygments_lexer": "ipython3",
   "version": "3.8.5"
  },
  "toc": {
   "base_numbering": 1,
   "nav_menu": {},
   "number_sections": true,
   "sideBar": true,
   "skip_h1_title": false,
   "title_cell": "Table of Contents",
   "title_sidebar": "Contents",
   "toc_cell": false,
   "toc_position": {},
   "toc_section_display": true,
   "toc_window_display": false
  },
  "varInspector": {
   "cols": {
    "lenName": 16,
    "lenType": 16,
    "lenVar": 40
   },
   "kernels_config": {
    "python": {
     "delete_cmd_postfix": "",
     "delete_cmd_prefix": "del ",
     "library": "var_list.py",
     "varRefreshCmd": "print(var_dic_list())"
    },
    "r": {
     "delete_cmd_postfix": ") ",
     "delete_cmd_prefix": "rm(",
     "library": "var_list.r",
     "varRefreshCmd": "cat(var_dic_list()) "
    }
   },
   "types_to_exclude": [
    "module",
    "function",
    "builtin_function_or_method",
    "instance",
    "_Feature"
   ],
   "window_display": false
  }
 },
 "nbformat": 4,
 "nbformat_minor": 4
}
